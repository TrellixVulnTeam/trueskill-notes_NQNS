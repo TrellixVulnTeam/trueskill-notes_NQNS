{
 "cells": [
  {
   "cell_type": "markdown",
   "id": "73330603",
   "metadata": {},
   "source": [
    "# TrueSkill: A Bayesian Skill Rating System"
   ]
  },
  {
   "cell_type": "markdown",
   "id": "67942041",
   "metadata": {},
   "source": [
    "- TrueSkill is a generalisation of the Elo system used in Chess\n",
    "    - Can deal with any number of competiing entities,\n",
    "    - and infer individual skills from team results.\n",
    "\n",
    "- Why do we need skill rating system?\n",
    "    - Making balanced matches, \n",
    "    - stimulating interest and competition,\n",
    "    - and using as qualification for tournaments."
   ]
  },
  {
   "cell_type": "markdown",
   "id": "3632f3e4",
   "metadata": {},
   "source": [
    "## Elo system\n",
    "\n",
    "- Created by Arpad Elo in 1959.\n",
    "- The probability that player 1 wubs us given by the probability that his performance $p_1$ exceends the oppoents's performance $p_2$.\n",
    "$$\n",
    "P(p_1 > p_2 | s_1, s_2) = \\Phi(\\frac{s_1 - s_2}{\\sqrt{2}\\beta})\n",
    "$$\n",
    "where $s_1$ and $s_2$ are player 1 and player 2 skill ratings. $\\Phi$ denotes the cumulative density of a zero-mean unit-variance Gaussian(Standard Normal Distribution).\n",
    "\n",
    "- After the game the $s_1$ and $s_2$ are updated such that $s_1 + s_2$ equals some constant. \n",
    "- To update player 1 score, let $y=+1$ if player 1 wins, $y=-1$ if player 1 loses, and $y=0$ if there is a draw.\n",
    "- Then Linearised Elo update is given by \n",
    "$\n",
    "s_1 \\leftarrow s_1 + y\\Delta, \n",
    "s_2 \\leftarrow s_2 - y\\Delta,\n",
    "$\n",
    "and \n",
    "\n",
    "$$\n",
    "\\Delta = \\alpha \\beta \\sqrt{\\pi}\\left(\\frac{y+1}{2} - \\Phi\\left(\\frac{s_1 - s_2}{\\sqrt{2}\\beta}\\right)\\right),\n",
    "$$\n",
    "where $0 < \\alpha < 1$ determines the weighting of the new evidence versus the old estimate."
   ]
  },
  {
   "cell_type": "markdown",
   "id": "7f30dced",
   "metadata": {},
   "source": [
    "- Elo variants uses [logistic distribution](https://en.wikipedia.org/wiki/Logistic_distribution) instead of Gaussian because it is argued to provide a better fit for Chess data.\n",
    "- Elo system addressed the problem of estimating from paired comparison data from other models.\n",
    "- Player's rating is considered provisional(need to have another rating system) if the player only played 20-25 games.\n",
    "    - Glicko model addresses this problem."
   ]
  },
  {
   "cell_type": "markdown",
   "id": "d410f4ef",
   "metadata": {},
   "source": [
    "TrueSkill addresses these two challenges in online matchmaking games:\n",
    "1. Game outcomes often refer to to teams of plaers yet a skill rating for individual players is needed for future matchmaking.\n",
    "2. More than two players or teams compete such that the game outcome is a permutation of teams or players rather than just a winner and a loser."
   ]
  },
  {
   "cell_type": "markdown",
   "id": "98cea608",
   "metadata": {},
   "source": [
    "## Section 2-3:\n",
    "bunch of math"
   ]
  },
  {
   "cell_type": "markdown",
   "id": "e9f6d465",
   "metadata": {},
   "source": [
    "## Section 4: Experiments and Online Service\n",
    "- To test the TrueSkill algorithm, the study used thousands of dataset of Halo 2 matches for four different types of games.\n",
    "1. 8 player free-for-all\n",
    "2. 4v4\n",
    "3. 1v1 (head-to-head)\n",
    "4. 8v8\n",
    "\n",
    "- They compared TrueSkill algorithm to Elo with a Gaussian performance distribution.\n",
    "- When they had to process team game with more than two teams they used the so-called duelling heruristic(compute $\\Delta$ based on team and update score with average $\\Delta$).\n",
    "- According to the study, TrueSkill is significantly better at predicting matches than the Elo system."
   ]
  },
  {
   "cell_type": "markdown",
   "id": "4da074f7",
   "metadata": {},
   "source": [
    "- Match Quality\n",
    "    - TrueSkill is significantly better for matchmaking in free-for-all and head-to-head games but fails in small teams (could be because of game type in Halo 2).\n",
    "- Win Probability\n",
    "    - Used winning ratio and minimal games played to compute the winning probability. With TrueSkill players with very few games got mostly fair matches.\n",
    "- Convergence Properties\n",
    "    - using data from the two highest rated players in free-for-all\n",
    "    - TrueSkill chooses the correct learning rate (knowing the player's future match results) while Elo slowly converges to the target skill curve.\n",
    "    \n",
    "   "
   ]
  },
  {
   "cell_type": "code",
   "execution_count": null,
   "id": "cfcc4075",
   "metadata": {},
   "outputs": [],
   "source": []
  },
  {
   "cell_type": "code",
   "execution_count": 1,
   "id": "3d0906e3",
   "metadata": {},
   "outputs": [],
   "source": [
    "import trueskill"
   ]
  },
  {
   "cell_type": "code",
   "execution_count": 2,
   "id": "b3f544ec",
   "metadata": {},
   "outputs": [
    {
     "name": "stdout",
     "output_type": "stream",
     "text": [
      "This match seems to be not so fair\n"
     ]
    }
   ],
   "source": [
    "from trueskill import Rating, quality_1vs1, rate_1vs1\n",
    "alice, bob = Rating(25), Rating(30)  # assign Alice and Bob's ratings\n",
    "if quality_1vs1(alice, bob) < 0.50:\n",
    "    print('This match seems to be not so fair')\n",
    "alice, bob = rate_1vs1(alice, bob)  # update the ratings after the match"
   ]
  },
  {
   "cell_type": "code",
   "execution_count": 3,
   "id": "ebbdb13c",
   "metadata": {},
   "outputs": [
    {
     "data": {
      "text/latex": [
       "$\\mathcal{ N }( 25.000, 8.333^2 )$"
      ],
      "text/plain": [
       "trueskill.Rating(mu=25.000, sigma=8.333)"
      ]
     },
     "execution_count": 3,
     "metadata": {},
     "output_type": "execute_result"
    }
   ],
   "source": [
    "Rating()"
   ]
  },
  {
   "cell_type": "code",
   "execution_count": null,
   "id": "c586d478",
   "metadata": {},
   "outputs": [],
   "source": []
  },
  {
   "cell_type": "code",
   "execution_count": null,
   "id": "e6f775c8",
   "metadata": {},
   "outputs": [],
   "source": []
  }
 ],
 "metadata": {
  "kernelspec": {
   "display_name": "venv",
   "language": "python",
   "name": "venv"
  },
  "language_info": {
   "codemirror_mode": {
    "name": "ipython",
    "version": 3
   },
   "file_extension": ".py",
   "mimetype": "text/x-python",
   "name": "python",
   "nbconvert_exporter": "python",
   "pygments_lexer": "ipython3",
   "version": "3.9.13"
  }
 },
 "nbformat": 4,
 "nbformat_minor": 5
}
